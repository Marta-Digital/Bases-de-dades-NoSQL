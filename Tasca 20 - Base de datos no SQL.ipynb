{
 "cells": [
  {
   "cell_type": "markdown",
   "metadata": {},
   "source": [
    "![logo](banner.jpg)"
   ]
  },
  {
   "cell_type": "markdown",
   "metadata": {},
   "source": [
    "<h1><center><span style=\"color:blue\">TASCA 20 - IT Academy</span></center></h1>\n",
    "<h1><center><span style=\"color:blue\">BASE DE DATOS MYSQL</span></center></h1>\n",
    "<h2><center><span style=\"color:blue\">Curs Data Science</span></center></h2>"
   ]
  },
  {
   "cell_type": "code",
   "execution_count": 118,
   "metadata": {},
   "outputs": [],
   "source": [
    "import pandas as pd\n",
    "import numpy as np\n",
    "import matplotlib.pyplot as plt"
   ]
  },
  {
   "cell_type": "markdown",
   "metadata": {},
   "source": [
    "### <span style=\"color:black\">NIVELL 1.</span>\n",
    "### <span style=\"color:black\">Exercici 1.</span>"
   ]
  },
  {
   "cell_type": "markdown",
   "metadata": {},
   "source": [
    "__Crea una base de dades NoSQL utilitzant MongoDB. Afegeix-li algunes dades d'exemple que et permetin comprovar que ets capaç de processar-ne la informació de manera bàsica.:__ <span style=\"color:blue\">__[X] Fet__</span>"
   ]
  },
  {
   "cell_type": "code",
   "execution_count": null,
   "metadata": {},
   "outputs": [],
   "source": [
    "# He creado en mongodb server la base de datos 'cine', dentro de la cual he generado la colección 'Peliculas'."
   ]
  },
  {
   "cell_type": "markdown",
   "metadata": {},
   "source": [
    "![img](Tasca20_Collection_mongodb.jpg)"
   ]
  },
  {
   "cell_type": "markdown",
   "metadata": {},
   "source": [
    "### <span style=\"color:black\">Exercici 2.</span>"
   ]
  },
  {
   "cell_type": "markdown",
   "metadata": {},
   "source": [
    "__Connecta la base de dades NoSQL a Python utilitzant per exemple pymongo:__ <span style=\"color:blue\">__[X] Fet__</span>"
   ]
  },
  {
   "cell_type": "code",
   "execution_count": 16,
   "metadata": {},
   "outputs": [],
   "source": [
    "# Importamos pymongo, el conector de python para conectar con mongodb\n",
    "\n",
    "import pymongo"
   ]
  },
  {
   "cell_type": "code",
   "execution_count": 17,
   "metadata": {},
   "outputs": [
    {
     "name": "stdout",
     "output_type": "stream",
     "text": [
      "{'_id': 2.0, 'Film': 'Vengadones: Endgame', 'Year': '2019', 'Genero': 'Fantastico'}\n",
      "{'_id': 3.0, 'Film': 'Silencio', 'Year': '2016', 'Genero': 'Historico'}\n",
      "{'_id': 4.0, 'Film': 'Retrato de una mujer en llamas', 'Year': '2019', 'Genero': 'Drama'}\n",
      "{'_id': 5.0, 'Film': 'El viaje de Chihiro', 'Year': '2001', 'Genero': 'Animación'}\n",
      "{'_id': 6.0, 'Film': 'Drive', 'Year': '2011', 'Genero': 'Drama'}\n",
      "{'_id': 7.0, 'Film': 'Match point', 'Year': '2005', 'Genero': 'Drama'}\n",
      "{'_id': 8.0, 'Film': 'Interstellar', 'Year': '2004', 'Genero': 'Sci-fi'}\n",
      "{'_id': 9.0, 'Film': 'Dunkerke', 'Year': '2017', 'Genero': 'Bélico'}\n",
      "{'_id': 10.0, 'Film': '1917', 'Year': '2019', 'Genero': 'Bélico'}\n",
      "{'_id': 1.0, 'Film': 'El dia de la bestia', 'Year': '1995', 'Genero': 'Fantástico'}\n",
      "{'_id': 12.0, 'Film': 'Cuatro bodas y un funeral', 'Year': '1994', 'Genero': 'Comedia'}\n",
      "{'_id': 11.0, 'Film': 'Titanic', 'Year': '1999', 'Genero': 'Drama'}\n"
     ]
    }
   ],
   "source": [
    "# Nos conectamos a la base de datos 'cine' y a la colección 'películas' creada en mongodb server, y visualizamos los datos\n",
    "\n",
    "myclient = pymongo.MongoClient(\"mongodb://localhost:27017/\")\n",
    "mydb = myclient[\"cine\"]\n",
    "mycol = mydb[\"peliculas\"]\n",
    "\n",
    "for x in mycol.find():\n",
    "  print(x)"
   ]
  },
  {
   "cell_type": "markdown",
   "metadata": {},
   "source": [
    "### <span style=\"color:black\">NIVELL 2</span>\n",
    "### <span style=\"color:black\">Exercici 1.</span>\n",
    "\n",
    "__Fes algunes consultes senzilles a la Colecció creada:__ <span style=\"color:blue\">__[X] Fet__</span>"
   ]
  },
  {
   "cell_type": "code",
   "execution_count": 18,
   "metadata": {},
   "outputs": [
    {
     "name": "stdout",
     "output_type": "stream",
     "text": [
      "{'_id': 1.0, 'Film': 'El dia de la bestia', 'Year': '1995', 'Genero': 'Fantástico'}\n",
      "{'_id': 2.0, 'Film': 'Vengadones: Endgame', 'Year': '2019', 'Genero': 'Fantastico'}\n",
      "{'_id': 3.0, 'Film': 'Silencio', 'Year': '2016', 'Genero': 'Historico'}\n",
      "{'_id': 4.0, 'Film': 'Retrato de una mujer en llamas', 'Year': '2019', 'Genero': 'Drama'}\n",
      "{'_id': 5.0, 'Film': 'El viaje de Chihiro', 'Year': '2001', 'Genero': 'Animación'}\n",
      "{'_id': 6.0, 'Film': 'Drive', 'Year': '2011', 'Genero': 'Drama'}\n",
      "{'_id': 7.0, 'Film': 'Match point', 'Year': '2005', 'Genero': 'Drama'}\n",
      "{'_id': 8.0, 'Film': 'Interstellar', 'Year': '2004', 'Genero': 'Sci-fi'}\n",
      "{'_id': 9.0, 'Film': 'Dunkerke', 'Year': '2017', 'Genero': 'Bélico'}\n",
      "{'_id': 10.0, 'Film': '1917', 'Year': '2019', 'Genero': 'Bélico'}\n",
      "{'_id': 11.0, 'Film': 'Titanic', 'Year': '1999', 'Genero': 'Drama'}\n",
      "{'_id': 12.0, 'Film': 'Cuatro bodas y un funeral', 'Year': '1994', 'Genero': 'Comedia'}\n"
     ]
    }
   ],
   "source": [
    "# Vamos a ordenar los registros por orden ascendente de '_id':\n",
    "\n",
    "mydoc = mycol.find().sort(\"_id\")\n",
    "\n",
    "for x in mydoc:\n",
    "  print(x)"
   ]
  },
  {
   "cell_type": "code",
   "execution_count": 25,
   "metadata": {},
   "outputs": [
    {
     "name": "stdout",
     "output_type": "stream",
     "text": [
      "{'_id': 1.0, 'Film': 'El dia de la bestia', 'Year': '1995', 'Genero': 'Fantástico'}\n",
      "{'_id': 2.0, 'Film': 'Vengadones: Endgame', 'Year': '2019', 'Genero': 'Fantastico'}\n",
      "{'_id': 3.0, 'Film': 'Silencio', 'Year': '2016', 'Genero': 'Historico'}\n",
      "{'_id': 4.0, 'Film': 'Retrato de una mujer en llamas', 'Year': '2019', 'Genero': 'Drama'}\n",
      "{'_id': 5.0, 'Film': 'El viaje de Chihiro', 'Year': '2001', 'Genero': 'Animación'}\n",
      "{'_id': 6.0, 'Film': 'Drive', 'Year': '2011', 'Genero': 'Drama'}\n",
      "{'_id': 7.0, 'Film': 'Match point', 'Year': '2005', 'Genero': 'Drama'}\n",
      "{'_id': 8.0, 'Film': 'Interstellar', 'Year': '2004', 'Genero': 'Sci-fi'}\n",
      "{'_id': 9.0, 'Film': 'Dunkerke', 'Year': '2017', 'Genero': 'Bélico'}\n",
      "{'_id': 10.0, 'Film': '1917', 'Year': '2019', 'Genero': 'Bélico'}\n",
      "{'_id': 11.0, 'Film': 'Titanic', 'Year': '1999', 'Genero': 'Drama'}\n",
      "{'_id': 12.0, 'Film': 'Cuatro bodas y un funeral', 'Year': '1994', 'Genero': 'Comedia'}\n",
      "{'_id': '13', 'Film': 'In the mood for love', 'Year': '2001', 'Genero': 'Drama'}\n",
      "{'_id': '14', 'Film': 'Uno de los nuestros', 'Year': '1990', 'Genero': 'Drama'}\n",
      "{'_id': '15', 'Film': 'Parásitos', 'Year': '2019', 'Genero': 'Drama'}\n"
     ]
    }
   ],
   "source": [
    "# A continuación vamos a insertar 3 películas más, pero esta vez desde jupyter notebook, y ordenamos de nuevo.\n",
    "\n",
    "mylist = [\n",
    "    { \"_id\": \"13\", \"Film\": \"In the mood for love\", \"Year\": \"2001\", \"Genero\": \"Drama\"},\n",
    "    { \"_id\": \"14\", \"Film\": \"Uno de los nuestros\", \"Year\": \"1990\", \"Genero\": \"Drama\"},\n",
    "    { \"_id\": \"15\", \"Film\": \"Parásitos\", \"Year\": \"2019\", \"Genero\": \"Drama\"}\n",
    "]\n",
    "\n",
    "x = mycol.insert_many(mylist)\n",
    "mydoc=mycol.find().sort(\"_id\")\n",
    "\n",
    "for x in mydoc:\n",
    "  print(x"
   ]
  },
  {
   "cell_type": "code",
   "execution_count": 32,
   "metadata": {},
   "outputs": [
    {
     "name": "stdout",
     "output_type": "stream",
     "text": [
      "{'_id': 9.0, 'Film': 'Dunkerke', 'Year': '2017', 'Genero': 'Bélico'}\n",
      "{'_id': 10.0, 'Film': '1917', 'Year': '2019', 'Genero': 'Bélico'}\n"
     ]
    }
   ],
   "source": [
    "# Vamos a realizar una consulta: queremos saber qué películas de la lista son del Genero 'Bélico'.\n",
    "\n",
    "myquery = { \"Genero\": \"Bélico\" }\n",
    "\n",
    "mydoc = mycol.find(myquery)\n",
    "\n",
    "for x in mydoc:\n",
    "  print(x)"
   ]
  },
  {
   "cell_type": "code",
   "execution_count": 30,
   "metadata": {},
   "outputs": [
    {
     "name": "stdout",
     "output_type": "stream",
     "text": [
      "1 documents updated.\n"
     ]
    }
   ],
   "source": [
    "# Sin querer, hemos escrito uno de los Generos de forma incorrecta: El dia de la bestia es de género Fantástico (con acento), y \n",
    "# Vengadores Endgame es de género Fantastico (sin acento). Vamos a actualizar la colección para quitar el acento a Fantástico. \n",
    "\n",
    "myquery = { \"Genero\": \"Fantástico\" }\n",
    "newvalues = { \"$set\": { \"Genero\": \"Fantastico\" } }\n",
    "\n",
    "x = mycol.update_one(myquery, newvalues)\n",
    "\n",
    "print(x.modified_count, \"documents updated.\")"
   ]
  },
  {
   "cell_type": "code",
   "execution_count": 53,
   "metadata": {},
   "outputs": [
    {
     "name": "stdout",
     "output_type": "stream",
     "text": [
      "{'_id': 4.0, 'Film': 'Retrato de una mujer en llamas', 'Year': '2019', 'Genero': 'Drama'}\n",
      "{'_id': 6.0, 'Film': 'Drive', 'Year': '2011', 'Genero': 'Drama'}\n",
      "{'_id': 7.0, 'Film': 'Match point', 'Year': '2005', 'Genero': 'Drama'}\n"
     ]
    }
   ],
   "source": [
    "# De toda la colección queremos conocer las 3 primeras películas que tienen como género 'Drama'\n",
    "\n",
    "myquery = { \"Genero\": \"Drama\" }\n",
    "\n",
    "myresult = mycol.find(myquery).limit(3)\n",
    "\n",
    "for x in myresult:\n",
    "  print(x)"
   ]
  },
  {
   "cell_type": "code",
   "execution_count": 79,
   "metadata": {},
   "outputs": [
    {
     "name": "stdout",
     "output_type": "stream",
     "text": [
      "{'Film': 'Vengadones: Endgame'}\n",
      "{'Film': 'Silencio'}\n",
      "{'Film': 'Retrato de una mujer en llamas'}\n",
      "{'Film': 'El viaje de Chihiro'}\n",
      "{'Film': 'Drive'}\n",
      "{'Film': 'Match point'}\n",
      "{'Film': 'Interstellar'}\n",
      "{'Film': 'Dunkerke'}\n",
      "{'Film': '1917'}\n",
      "{'Film': 'In the mood for love'}\n",
      "{'Film': 'Parásitos'}\n"
     ]
    }
   ],
   "source": [
    "# Queremos obtener un listado (solo nombre del film) de las películas del listado estrenadas a partir del año 2000.\n",
    "\n",
    "for x in mycol.find({'Year':{'$gte':'2000'}},{ \"Film\": 1, \"_id\": 0 }):\n",
    "  print(x)"
   ]
  },
  {
   "cell_type": "code",
   "execution_count": 82,
   "metadata": {},
   "outputs": [
    {
     "name": "stdout",
     "output_type": "stream",
     "text": [
      "{'Film': 'El dia de la bestia', 'Genero': 'Fantastico'}\n",
      "{'Film': 'Cuatro bodas y un funeral', 'Genero': 'Comedia'}\n",
      "{'Film': 'Titanic', 'Genero': 'Drama'}\n",
      "{'Film': 'Uno de los nuestros', 'Genero': 'Drama'}\n"
     ]
    }
   ],
   "source": [
    "# Queremos ver el listado (solo nombre y género) de películas de los años 90.\n",
    "\n",
    "for x in mycol.find({\"Year\": { \"$regex\": \"^199\" } }, { \"Film\": 1, \"Genero\": 1, \"_id\": 0 }):\n",
    "  print(x)"
   ]
  },
  {
   "cell_type": "markdown",
   "metadata": {},
   "source": [
    "### <span style=\"color:black\">NIVELL 3</span>\n",
    "### <span style=\"color:black\">Exercici 1.</span>\n",
    "\n",
    "__Genera un resum estadístic de la informació que conté la base de dades:__ <span style=\"color:blue\">__[X] Fet__</span>"
   ]
  },
  {
   "cell_type": "code",
   "execution_count": 102,
   "metadata": {},
   "outputs": [],
   "source": [
    "# primero transformamos la colección de mongodb en un pandas dataframe.\n",
    "\n",
    "data = pd.DataFrame(list(mycol.find().sort('_id')))"
   ]
  },
  {
   "cell_type": "code",
   "execution_count": 103,
   "metadata": {},
   "outputs": [
    {
     "data": {
      "text/html": [
       "<div>\n",
       "<style scoped>\n",
       "    .dataframe tbody tr th:only-of-type {\n",
       "        vertical-align: middle;\n",
       "    }\n",
       "\n",
       "    .dataframe tbody tr th {\n",
       "        vertical-align: top;\n",
       "    }\n",
       "\n",
       "    .dataframe thead th {\n",
       "        text-align: right;\n",
       "    }\n",
       "</style>\n",
       "<table border=\"1\" class=\"dataframe\">\n",
       "  <thead>\n",
       "    <tr style=\"text-align: right;\">\n",
       "      <th></th>\n",
       "      <th>_id</th>\n",
       "      <th>Film</th>\n",
       "      <th>Year</th>\n",
       "      <th>Genero</th>\n",
       "    </tr>\n",
       "  </thead>\n",
       "  <tbody>\n",
       "    <tr>\n",
       "      <th>0</th>\n",
       "      <td>1.0</td>\n",
       "      <td>El dia de la bestia</td>\n",
       "      <td>1995</td>\n",
       "      <td>Fantastico</td>\n",
       "    </tr>\n",
       "    <tr>\n",
       "      <th>1</th>\n",
       "      <td>2.0</td>\n",
       "      <td>Vengadones: Endgame</td>\n",
       "      <td>2019</td>\n",
       "      <td>Fantastico</td>\n",
       "    </tr>\n",
       "    <tr>\n",
       "      <th>2</th>\n",
       "      <td>3.0</td>\n",
       "      <td>Silencio</td>\n",
       "      <td>2016</td>\n",
       "      <td>Historico</td>\n",
       "    </tr>\n",
       "    <tr>\n",
       "      <th>3</th>\n",
       "      <td>4.0</td>\n",
       "      <td>Retrato de una mujer en llamas</td>\n",
       "      <td>2019</td>\n",
       "      <td>Drama</td>\n",
       "    </tr>\n",
       "    <tr>\n",
       "      <th>4</th>\n",
       "      <td>5.0</td>\n",
       "      <td>El viaje de Chihiro</td>\n",
       "      <td>2001</td>\n",
       "      <td>Animación</td>\n",
       "    </tr>\n",
       "  </tbody>\n",
       "</table>\n",
       "</div>"
      ],
      "text/plain": [
       "   _id                            Film  Year      Genero\n",
       "0  1.0             El dia de la bestia  1995  Fantastico\n",
       "1  2.0             Vengadones: Endgame  2019  Fantastico\n",
       "2  3.0                        Silencio  2016   Historico\n",
       "3  4.0  Retrato de una mujer en llamas  2019       Drama\n",
       "4  5.0             El viaje de Chihiro  2001   Animación"
      ]
     },
     "execution_count": 103,
     "metadata": {},
     "output_type": "execute_result"
    }
   ],
   "source": [
    "data.head()"
   ]
  },
  {
   "cell_type": "code",
   "execution_count": 104,
   "metadata": {},
   "outputs": [],
   "source": [
    "# eliminamos la columna _id, que en mi caso no era más que un contador.\n",
    "\n",
    "del(data['_id'])"
   ]
  },
  {
   "cell_type": "code",
   "execution_count": 116,
   "metadata": {},
   "outputs": [
    {
     "data": {
      "text/html": [
       "<div>\n",
       "<style scoped>\n",
       "    .dataframe tbody tr th:only-of-type {\n",
       "        vertical-align: middle;\n",
       "    }\n",
       "\n",
       "    .dataframe tbody tr th {\n",
       "        vertical-align: top;\n",
       "    }\n",
       "\n",
       "    .dataframe thead th {\n",
       "        text-align: right;\n",
       "    }\n",
       "</style>\n",
       "<table border=\"1\" class=\"dataframe\">\n",
       "  <thead>\n",
       "    <tr style=\"text-align: right;\">\n",
       "      <th></th>\n",
       "      <th>Film</th>\n",
       "      <th>Year</th>\n",
       "      <th>Genero</th>\n",
       "      <th>Recaudacion (mill. $)</th>\n",
       "    </tr>\n",
       "  </thead>\n",
       "  <tbody>\n",
       "    <tr>\n",
       "      <th>0</th>\n",
       "      <td>El dia de la bestia</td>\n",
       "      <td>1995</td>\n",
       "      <td>Fantastico</td>\n",
       "      <td>4.36</td>\n",
       "    </tr>\n",
       "    <tr>\n",
       "      <th>1</th>\n",
       "      <td>Vengadones: Endgame</td>\n",
       "      <td>2019</td>\n",
       "      <td>Fantastico</td>\n",
       "      <td>2798.00</td>\n",
       "    </tr>\n",
       "    <tr>\n",
       "      <th>2</th>\n",
       "      <td>Silencio</td>\n",
       "      <td>2016</td>\n",
       "      <td>Historico</td>\n",
       "      <td>23.73</td>\n",
       "    </tr>\n",
       "    <tr>\n",
       "      <th>3</th>\n",
       "      <td>Retrato de una mujer en llamas</td>\n",
       "      <td>2019</td>\n",
       "      <td>Drama</td>\n",
       "      <td>10.00</td>\n",
       "    </tr>\n",
       "    <tr>\n",
       "      <th>4</th>\n",
       "      <td>El viaje de Chihiro</td>\n",
       "      <td>2001</td>\n",
       "      <td>Animación</td>\n",
       "      <td>383.40</td>\n",
       "    </tr>\n",
       "    <tr>\n",
       "      <th>5</th>\n",
       "      <td>Drive</td>\n",
       "      <td>2011</td>\n",
       "      <td>Drama</td>\n",
       "      <td>81.40</td>\n",
       "    </tr>\n",
       "    <tr>\n",
       "      <th>6</th>\n",
       "      <td>Match point</td>\n",
       "      <td>2005</td>\n",
       "      <td>Drama</td>\n",
       "      <td>85.30</td>\n",
       "    </tr>\n",
       "    <tr>\n",
       "      <th>7</th>\n",
       "      <td>Interstellar</td>\n",
       "      <td>2004</td>\n",
       "      <td>Sci-fi</td>\n",
       "      <td>701.80</td>\n",
       "    </tr>\n",
       "    <tr>\n",
       "      <th>8</th>\n",
       "      <td>Dunkerke</td>\n",
       "      <td>2017</td>\n",
       "      <td>Bélico</td>\n",
       "      <td>526.90</td>\n",
       "    </tr>\n",
       "    <tr>\n",
       "      <th>9</th>\n",
       "      <td>1917</td>\n",
       "      <td>2019</td>\n",
       "      <td>Bélico</td>\n",
       "      <td>384.90</td>\n",
       "    </tr>\n",
       "    <tr>\n",
       "      <th>10</th>\n",
       "      <td>Titanic</td>\n",
       "      <td>1999</td>\n",
       "      <td>Drama</td>\n",
       "      <td>2195.00</td>\n",
       "    </tr>\n",
       "    <tr>\n",
       "      <th>11</th>\n",
       "      <td>Cuatro bodas y un funeral</td>\n",
       "      <td>1994</td>\n",
       "      <td>Comedia</td>\n",
       "      <td>245.70</td>\n",
       "    </tr>\n",
       "    <tr>\n",
       "      <th>12</th>\n",
       "      <td>In the mood for love</td>\n",
       "      <td>2001</td>\n",
       "      <td>Drama</td>\n",
       "      <td>12.80</td>\n",
       "    </tr>\n",
       "    <tr>\n",
       "      <th>13</th>\n",
       "      <td>Uno de los nuestros</td>\n",
       "      <td>1990</td>\n",
       "      <td>Drama</td>\n",
       "      <td>47.10</td>\n",
       "    </tr>\n",
       "    <tr>\n",
       "      <th>14</th>\n",
       "      <td>Parásitos</td>\n",
       "      <td>2019</td>\n",
       "      <td>Drama</td>\n",
       "      <td>258.80</td>\n",
       "    </tr>\n",
       "  </tbody>\n",
       "</table>\n",
       "</div>"
      ],
      "text/plain": [
       "                              Film  Year      Genero  Recaudacion (mill. $)\n",
       "0              El dia de la bestia  1995  Fantastico                   4.36\n",
       "1              Vengadones: Endgame  2019  Fantastico                2798.00\n",
       "2                         Silencio  2016   Historico                  23.73\n",
       "3   Retrato de una mujer en llamas  2019       Drama                  10.00\n",
       "4              El viaje de Chihiro  2001   Animación                 383.40\n",
       "5                            Drive  2011       Drama                  81.40\n",
       "6                      Match point  2005       Drama                  85.30\n",
       "7                     Interstellar  2004      Sci-fi                 701.80\n",
       "8                         Dunkerke  2017      Bélico                 526.90\n",
       "9                             1917  2019      Bélico                 384.90\n",
       "10                         Titanic  1999       Drama                2195.00\n",
       "11       Cuatro bodas y un funeral  1994     Comedia                 245.70\n",
       "12            In the mood for love  2001       Drama                  12.80\n",
       "13             Uno de los nuestros  1990       Drama                  47.10\n",
       "14                       Parásitos  2019       Drama                 258.80"
      ]
     },
     "execution_count": 116,
     "metadata": {},
     "output_type": "execute_result"
    }
   ],
   "source": [
    "# En nuestro df tal como lo tenemos ahora, si hacemos un describe(), éste no nos va a proporcionar mucha información, así\n",
    "# que he pensado en añadirle una columna más con los datos de facturación de cada película. \n",
    "\n",
    "Recaudacion = [4.36, 2798, 23.73, 10, 383.4, 81.4, 85.3, 701.8, 526.9, 384.9, 2195, 245.7, 12.8, 47.1, 258.8]\n",
    "data['Recaudacion (mill. $)'] = Recaudacion\n",
    "data.head(15)"
   ]
  },
  {
   "cell_type": "code",
   "execution_count": 106,
   "metadata": {},
   "outputs": [
    {
     "name": "stdout",
     "output_type": "stream",
     "text": [
      "<class 'pandas.core.frame.DataFrame'>\n",
      "RangeIndex: 15 entries, 0 to 14\n",
      "Data columns (total 4 columns):\n",
      " #   Column                 Non-Null Count  Dtype  \n",
      "---  ------                 --------------  -----  \n",
      " 0   Film                   15 non-null     object \n",
      " 1   Year                   15 non-null     object \n",
      " 2   Genero                 15 non-null     object \n",
      " 3   Recaudacion (mill. $)  15 non-null     float64\n",
      "dtypes: float64(1), object(3)\n",
      "memory usage: 608.0+ bytes\n"
     ]
    }
   ],
   "source": [
    "data.info()"
   ]
  },
  {
   "cell_type": "code",
   "execution_count": 107,
   "metadata": {},
   "outputs": [],
   "source": [
    "# Observamos que al pasar la colección a dataframe, los datos aparecen del tipo 'Object', así que para que se les pueda aplicar\n",
    "# el describe() pasaremos la columna 'Year' a integer\n",
    "\n",
    "data['Year']=data['Year'].astype(int) "
   ]
  },
  {
   "cell_type": "code",
   "execution_count": 108,
   "metadata": {},
   "outputs": [
    {
     "data": {
      "text/html": [
       "<div>\n",
       "<style scoped>\n",
       "    .dataframe tbody tr th:only-of-type {\n",
       "        vertical-align: middle;\n",
       "    }\n",
       "\n",
       "    .dataframe tbody tr th {\n",
       "        vertical-align: top;\n",
       "    }\n",
       "\n",
       "    .dataframe thead th {\n",
       "        text-align: right;\n",
       "    }\n",
       "</style>\n",
       "<table border=\"1\" class=\"dataframe\">\n",
       "  <thead>\n",
       "    <tr style=\"text-align: right;\">\n",
       "      <th></th>\n",
       "      <th>Year</th>\n",
       "      <th>Recaudacion (mill. $)</th>\n",
       "    </tr>\n",
       "  </thead>\n",
       "  <tbody>\n",
       "    <tr>\n",
       "      <th>count</th>\n",
       "      <td>15.000</td>\n",
       "      <td>15.000</td>\n",
       "    </tr>\n",
       "    <tr>\n",
       "      <th>mean</th>\n",
       "      <td>2007.267</td>\n",
       "      <td>517.279</td>\n",
       "    </tr>\n",
       "    <tr>\n",
       "      <th>std</th>\n",
       "      <td>10.430</td>\n",
       "      <td>838.483</td>\n",
       "    </tr>\n",
       "    <tr>\n",
       "      <th>min</th>\n",
       "      <td>1990.000</td>\n",
       "      <td>4.360</td>\n",
       "    </tr>\n",
       "    <tr>\n",
       "      <th>25%</th>\n",
       "      <td>2000.000</td>\n",
       "      <td>35.415</td>\n",
       "    </tr>\n",
       "    <tr>\n",
       "      <th>50%</th>\n",
       "      <td>2005.000</td>\n",
       "      <td>245.700</td>\n",
       "    </tr>\n",
       "    <tr>\n",
       "      <th>75%</th>\n",
       "      <td>2018.000</td>\n",
       "      <td>455.900</td>\n",
       "    </tr>\n",
       "    <tr>\n",
       "      <th>max</th>\n",
       "      <td>2019.000</td>\n",
       "      <td>2798.000</td>\n",
       "    </tr>\n",
       "  </tbody>\n",
       "</table>\n",
       "</div>"
      ],
      "text/plain": [
       "           Year  Recaudacion (mill. $)\n",
       "count    15.000                 15.000\n",
       "mean   2007.267                517.279\n",
       "std      10.430                838.483\n",
       "min    1990.000                  4.360\n",
       "25%    2000.000                 35.415\n",
       "50%    2005.000                245.700\n",
       "75%    2018.000                455.900\n",
       "max    2019.000               2798.000"
      ]
     },
     "execution_count": 108,
     "metadata": {},
     "output_type": "execute_result"
    }
   ],
   "source": [
    "data.describe().round(3)"
   ]
  },
  {
   "cell_type": "code",
   "execution_count": 134,
   "metadata": {},
   "outputs": [
    {
     "data": {
      "text/html": [
       "<div>\n",
       "<style scoped>\n",
       "    .dataframe tbody tr th:only-of-type {\n",
       "        vertical-align: middle;\n",
       "    }\n",
       "\n",
       "    .dataframe tbody tr th {\n",
       "        vertical-align: top;\n",
       "    }\n",
       "\n",
       "    .dataframe thead th {\n",
       "        text-align: right;\n",
       "    }\n",
       "</style>\n",
       "<table border=\"1\" class=\"dataframe\">\n",
       "  <thead>\n",
       "    <tr style=\"text-align: right;\">\n",
       "      <th></th>\n",
       "      <th>Recaudacion (mill. $)</th>\n",
       "    </tr>\n",
       "  </thead>\n",
       "  <tbody>\n",
       "    <tr>\n",
       "      <th>1</th>\n",
       "      <td>2798.00</td>\n",
       "    </tr>\n",
       "    <tr>\n",
       "      <th>10</th>\n",
       "      <td>2195.00</td>\n",
       "    </tr>\n",
       "    <tr>\n",
       "      <th>7</th>\n",
       "      <td>701.80</td>\n",
       "    </tr>\n",
       "    <tr>\n",
       "      <th>8</th>\n",
       "      <td>526.90</td>\n",
       "    </tr>\n",
       "    <tr>\n",
       "      <th>9</th>\n",
       "      <td>384.90</td>\n",
       "    </tr>\n",
       "    <tr>\n",
       "      <th>Otras peliculas</th>\n",
       "      <td>1152.59</td>\n",
       "    </tr>\n",
       "  </tbody>\n",
       "</table>\n",
       "</div>"
      ],
      "text/plain": [
       "                 Recaudacion (mill. $)\n",
       "1                              2798.00\n",
       "10                             2195.00\n",
       "7                               701.80\n",
       "8                               526.90\n",
       "9                               384.90\n",
       "Otras peliculas                1152.59"
      ]
     },
     "execution_count": 134,
     "metadata": {},
     "output_type": "execute_result"
    }
   ],
   "source": [
    "# A continuación,a modo de exploración y visualización de datos, vamos a hacer un gráfico pie de las 5 películas más taquilleras\n",
    "# de nuestro dataset. \n",
    "\n",
    "factur = data.sort_values(by='Recaudacion (mill. $)', ascending=False)\n",
    "facturacion = factur[['Recaudacion (mill. $)']][:5].copy()\n",
    "facturacion.loc['Otras peliculas'] = [sum(factur['Recaudacion (mill. $)'][5:])]\n",
    "facturacion"
   ]
  },
  {
   "cell_type": "code",
   "execution_count": 139,
   "metadata": {},
   "outputs": [
    {
     "data": {
      "image/png": "[encoded data removed]",
      "text/plain": [
       "<Figure size 720x432 with 1 Axes>"
      ]
     },
     "metadata": {},
     "output_type": "display_data"
    }
   ],
   "source": [
    "mylabels = [\"Vengadores: Endgame\", \"Titanic\", \"Interstellar\", \"Dunkerke\", \"1917\", \"Otras películas\"]\n",
    "\n",
    "\n",
    "plt.rcParams[\"figure.figsize\"] = (10, 6)\n",
    "plt.rcParams['font.size'] = 16\n",
    "\n",
    "myexplode = [0.2, 0, 0, 0, 0, 0]\n",
    "\n",
    "plt.pie(facturacion['Recaudacion (mill. $)'], autopct='%1.1f%%', labels=mylabels, explode= myexplode, textprops={'fontsize': 12}, shadow=True)\n",
    "\n",
    "plt.title('Las 5 películas con mayor facturación de nuestra lista', fontsize=20)\n",
    "plt.show()"
   ]
  },
  {
   "cell_type": "code",
   "execution_count": null,
   "metadata": {},
   "outputs": [],
   "source": []
  }
 ],
 "metadata": {
  "kernelspec": {
   "display_name": "Python 3",
   "language": "python",
   "name": "python3"
  },
  "language_info": {
   "codemirror_mode": {
    "name": "ipython",
    "version": 3
   },
   "file_extension": ".py",
   "mimetype": "text/x-python",
   "name": "python",
   "nbconvert_exporter": "python",
   "pygments_lexer": "ipython3",
   "version": "3.7.4"
  }
 },
 "nbformat": 4,
 "nbformat_minor": 4
}
